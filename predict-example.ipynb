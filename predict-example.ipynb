{
 "cells": [
  {
   "cell_type": "code",
   "execution_count": 1,
   "id": "c1c8697e-ac8e-4e6a-bd84-ab7e28eaeeee",
   "metadata": {
    "tags": []
   },
   "outputs": [],
   "source": [
    "import rioxarray\n",
    "import rasterio\n",
    "import glob\n",
    "import xarray as xr\n",
    "import numpy as np\n",
    "import matplotlib.pyplot as plt"
   ]
  },
  {
   "cell_type": "code",
   "execution_count": 2,
   "id": "4cde6c22-dee7-48b7-b193-d20979074469",
   "metadata": {
    "tags": []
   },
   "outputs": [],
   "source": [
    "import geomod\n",
    "from geomod.predictor import Predictor\n",
    "from geomod import utils"
   ]
  },
  {
   "cell_type": "markdown",
   "id": "65615dcc-cb1f-4bd2-8a24-eda628bd2d14",
   "metadata": {},
   "source": [
    "### Preparing the Data"
   ]
  },
  {
   "cell_type": "code",
   "execution_count": 3,
   "id": "697d622a-18e1-4e58-87ba-9ec9ca995e49",
   "metadata": {
    "tags": []
   },
   "outputs": [],
   "source": [
    "data_directory = '/home/jovyan/PlanetaryComputerExamples/adv-python-final/geomod/example-notebooks/data/'"
   ]
  },
  {
   "cell_type": "code",
   "execution_count": 4,
   "id": "2ea4c9e3-aa40-413f-aaf2-477dcc20c5c7",
   "metadata": {
    "tags": []
   },
   "outputs": [],
   "source": [
    "driver_map_names = ['elevation01', 'geology01', 'protection01']\n",
    "driver_map_paths = [data_directory+name+'.rst' for name in driver_map_names]\n",
    "driver_map_xr_list = [rioxarray.open_rasterio(map, masked=True) for map in driver_map_paths]\n",
    "all_driver_maps_xr = xr.concat(driver_map_xr_list, dim='band').assign_coords(band=driver_map_names)"
   ]
  },
  {
   "cell_type": "code",
   "execution_count": 5,
   "id": "7905babc-6e6a-4a27-a16e-e34909924dac",
   "metadata": {
    "tags": []
   },
   "outputs": [
    {
     "name": "stderr",
     "output_type": "stream",
     "text": [
      "/srv/conda/envs/notebook/lib/python3.11/site-packages/xarray/core/duck_array_ops.py:188: RuntimeWarning: invalid value encountered in cast\n",
      "  return data.astype(dtype, **kwargs)\n"
     ]
    }
   ],
   "source": [
    "# round the driver maps to the nearest integer to get categorical data.\n",
    "# a future implementation will include the option to categorize driver maps according to user input\n",
    "\n",
    "all_driver_maps_xr = all_driver_maps_xr.round().astype('int')\n",
    "\n",
    "# this is necessary due to rounding not working correctly with nan values\n",
    "all_driver_maps_xr = xr.where(all_driver_maps_xr>-1000000, all_driver_maps_xr, np.nan)\n"
   ]
  },
  {
   "cell_type": "code",
   "execution_count": 6,
   "id": "3b272502-b583-403a-ab2d-bf740dfa2d19",
   "metadata": {
    "tags": []
   },
   "outputs": [],
   "source": [
    "# import the 1985 classification map, our starting map\n",
    "input_classification_map_xr = rioxarray.open_rasterio(data_directory+'1985anderson01.rst', masked=True)"
   ]
  },
  {
   "cell_type": "code",
   "execution_count": 7,
   "id": "ec7ab074-24f5-4e7c-899e-9365e9ce6528",
   "metadata": {
    "tags": []
   },
   "outputs": [],
   "source": [
    "# get the metadata from the .RDC that comes with every .rst terrset raster\n",
    "\n",
    "def get_metadata(rdc_file):\n",
    "# Open the text file for reading\n",
    "    metadata_dict = {}\n",
    "    with open(rdc_file, \"r\") as file:\n",
    "    # Read each line in the file\n",
    "        for line in file:\n",
    "            # Split each line into key and value using ':'\n",
    "            key, value = line.strip().split(':')[0:2]\n",
    "            # Store the key-value pair in the dictionary\n",
    "            metadata_dict[key.strip()] = value.strip()\n",
    "    return metadata_dict"
   ]
  },
  {
   "cell_type": "code",
   "execution_count": 8,
   "id": "e1d775a5-085b-4e3e-9ef7-84889ddbd7e9",
   "metadata": {
    "tags": []
   },
   "outputs": [
    {
     "name": "stdout",
     "output_type": "stream",
     "text": [
      "{'file format': 'IDRISI Raster A.1', 'file title': '1985 Anderson Land Category', 'data type': 'byte', 'file type': 'binary', 'columns': '512', 'rows': '512', 'ref. system': 'spc83ma1', 'ref. units': 'm', 'unit dist.': '1.0000000', 'min. X': '242160.0000000', 'max. X': '257520.0000000', 'min. Y': '923060.0000000', 'max. Y': '938420.0000000', \"pos'n error\": 'unknown', 'resolution': '30', 'min. value': '0', 'max. value': '7', 'display min': '0', 'display max': '7', 'value units': 'categories', 'value error': 'unknown', 'flag value': '0', \"flag def'n\": 'background', 'legend cats': '7', 'code      1': 'Built', 'code      2': 'Agriculture', 'code      3': 'Range', 'code      4': 'Forest', 'code      5': 'Water', 'code      6': 'Wetland', 'code      7': 'Barren', 'lineage': '3*C'}\n"
     ]
    }
   ],
   "source": [
    "# get the metadata for our starting classification map\n",
    "print(get_metadata(data_directory+'1985anderson01.RDC'))"
   ]
  },
  {
   "cell_type": "code",
   "execution_count": 9,
   "id": "90205c94-8aea-486a-9e9b-d7bd9ff7f4b6",
   "metadata": {
    "tags": []
   },
   "outputs": [],
   "source": [
    "# reclassify the land cover map - we know from the metadata that the class of interest is 1 for built\n",
    "land_cover_map = utils.reclassify_landcover_map(input_classification_map_xr, class_of_interest=1)"
   ]
  },
  {
   "cell_type": "code",
   "execution_count": 10,
   "id": "5f73124a-d40b-4dec-853b-c15c74860db8",
   "metadata": {
    "tags": []
   },
   "outputs": [],
   "source": [
    "# plot the land cover map, we see the x and y coordinate scale, built areas as 1, all others as 0, and the mask as nan\n",
    "#land_cover_map.plot()"
   ]
  },
  {
   "cell_type": "code",
   "execution_count": 11,
   "id": "33116b9a-f913-446e-a27d-a0391bc33e75",
   "metadata": {
    "tags": []
   },
   "outputs": [],
   "source": [
    "# we do the same with the validation map for the ending time\n",
    "validation_class_map_xr = rioxarray.open_rasterio(data_directory+'1999anderson01.rst', masked=True)\n",
    "validation_map = utils.reclassify_landcover_map(validation_class_map_xr, class_of_interest=1)\n",
    "#validation_map.plot()"
   ]
  },
  {
   "cell_type": "code",
   "execution_count": 12,
   "id": "389ba92c-2aec-4a97-887c-65093d2df6fc",
   "metadata": {
    "tags": []
   },
   "outputs": [],
   "source": [
    "# users may define weights for each of the driver maps, or use no wieghts for an evenly weighted suitability map\n",
    "weights = {'elevation01':.8, 'geology01':.1, 'protection01':.1}"
   ]
  },
  {
   "cell_type": "code",
   "execution_count": 13,
   "id": "6d2beb89-f2ea-40f2-8ac5-967876b68d13",
   "metadata": {
    "tags": []
   },
   "outputs": [],
   "source": [
    "# Here we initialize a model using the Predictor class and the weights\n",
    "landchange_model01 = Predictor(\n",
    "    land_cover_map = land_cover_map,\n",
    "    beginning_time = 1985,\n",
    "    ending_time = 1999,\n",
    "    time_step = 1,\n",
    "    suitability_map = None,\n",
    "    driver_maps = all_driver_maps_xr,\n",
    "    validation_map = validation_map,\n",
    "    pixel_quantities=None,\n",
    "    mask_image=None,\n",
    "    strata_map=None,\n",
    "    constrain_to_neighborhood=None,\n",
    "    driver_map_weights=weights)  "
   ]
  },
  {
   "cell_type": "code",
   "execution_count": 14,
   "id": "e1294ac3-6d45-4275-a056-7ddbbe41bd97",
   "metadata": {
    "tags": []
   },
   "outputs": [
    {
     "name": "stdout",
     "output_type": "stream",
     "text": [
      "target number of change pixels: 3830\n",
      "Not using neighborhood constraint\n",
      "The number of pixels that can be changed: 75717\n",
      "Number of pixels above the change threshold: 2763\n",
      "There are 1320 tied pixels, of which 1067 must be selected arbitrarily.\n",
      "If this is unacceptable, consider reducing tied pixels by using more categorical variables to generate your suitability map\n"
     ]
    }
   ],
   "source": [
    "# run predict() on the model to get the predicted map\n",
    "landchange_model01.predict()"
   ]
  },
  {
   "cell_type": "code",
   "execution_count": 15,
   "id": "4a9472cb-6c56-4d0d-9ad4-2a12d72627b1",
   "metadata": {
    "tags": []
   },
   "outputs": [
    {
     "name": "stdout",
     "output_type": "stream",
     "text": [
      "3830\n",
      "0\n",
      "27473\n",
      "71887\n",
      "3830\n",
      "671\n",
      "26802\n",
      "71887\n",
      "31303.0\n",
      "30632.0\n"
     ]
    }
   ],
   "source": [
    "# access the predicted map as part of the model class\n",
    "print(((landchange_model01.predicted_map == 1) & (landchange_model01.land_cover_map == 0)).sum().item())\n",
    "print(((landchange_model01.predicted_map == 0) & (landchange_model01.land_cover_map == 1)).sum().item())\n",
    "print(((landchange_model01.predicted_map == 1) & (landchange_model01.land_cover_map == 1)).sum().item())\n",
    "print(((landchange_model01.predicted_map == 0) & (landchange_model01.land_cover_map == 0)).sum().item())\n",
    "\n",
    "print(((landchange_model01.validation_map == 1) & (landchange_model01.land_cover_map == 0)).sum().item())\n",
    "print(((landchange_model01.validation_map == 0) & (landchange_model01.land_cover_map == 1)).sum().item())\n",
    "print(((landchange_model01.validation_map == 1) & (landchange_model01.land_cover_map == 1)).sum().item())\n",
    "print(((landchange_model01.validation_map == 0) & (landchange_model01.land_cover_map == 0)).sum().item())\n",
    "\n",
    "print(landchange_model01.predicted_map.sum().item())\n",
    "print(landchange_model01.validation_map.sum().item())"
   ]
  },
  {
   "cell_type": "code",
   "execution_count": 16,
   "id": "8026ade3-abbd-455b-9303-0a2e15a7848a",
   "metadata": {
    "tags": []
   },
   "outputs": [
    {
     "data": {
      "text/plain": [
       "{'True Positives': 27197,\n",
       " 'True Negatives': 68452,\n",
       " 'False Positives': 4106,\n",
       " 'False Negatives': 3435,\n",
       " 'Precision': 0.8688304635338466,\n",
       " 'Recall': 0.8878623661530426,\n",
       " 'F1 Score': 0.8782433196092678}"
      ]
     },
     "execution_count": 16,
     "metadata": {},
     "output_type": "execute_result"
    }
   ],
   "source": [
    "# call validate to get the CROSSTAB table\n",
    "landchange_model01.validate()"
   ]
  },
  {
   "cell_type": "code",
   "execution_count": 17,
   "id": "58996887-4711-49a9-a622-0b236602fe66",
   "metadata": {
    "tags": []
   },
   "outputs": [],
   "source": [
    "# Here we initialize a model using the Predictor class\n",
    "# we pass a 3,3 kernel to constrain_to_neighborhood\n",
    "landchange_model02 = Predictor(\n",
    "    land_cover_map = land_cover_map,\n",
    "    beginning_time = 1985,\n",
    "    ending_time = 1999,\n",
    "    time_step = 1,\n",
    "    suitability_map = None,\n",
    "    driver_maps = all_driver_maps_xr,\n",
    "    validation_map = validation_map,\n",
    "    pixel_quantities=None,\n",
    "    mask_image=None,\n",
    "    strata_map=None,\n",
    "    constrain_to_neighborhood=(3,3),\n",
    "    driver_map_weights=weights)  "
   ]
  },
  {
   "cell_type": "code",
   "execution_count": 18,
   "id": "1b5a23b2-0a4d-4809-84f7-9dfb21aa6b5a",
   "metadata": {
    "tags": []
   },
   "outputs": [
    {
     "name": "stdout",
     "output_type": "stream",
     "text": [
      "target number of change pixels: 3830\n",
      "Final neighborhood constraint: [3, 3]\n",
      "The number of pixels that can be changed: 15269\n",
      "Number of pixels above the change threshold: 3804\n",
      "There are 171 tied pixels, of which 26 must be selected arbitrarily.\n",
      "If this is unacceptable, consider reducing tied pixels by using more categorical variables to generate your suitability map\n"
     ]
    }
   ],
   "source": [
    "# run predict() on the model to get the predicted map\n",
    "landchange_model02.predict()"
   ]
  },
  {
   "cell_type": "code",
   "execution_count": 19,
   "id": "aa280910-f47d-41de-96b9-b7712ddf1129",
   "metadata": {
    "tags": []
   },
   "outputs": [
    {
     "data": {
      "text/plain": [
       "<matplotlib.collections.QuadMesh at 0x7db633f0bc90>"
      ]
     },
     "execution_count": 19,
     "metadata": {},
     "output_type": "execute_result"
    },
    {
     "data": {
      "image/png": "[encoded data removed]",
      "text/plain": [
       "<Figure size 640x480 with 2 Axes>"
      ]
     },
     "metadata": {},
     "output_type": "display_data"
    }
   ],
   "source": [
    "# access the predicted map as part of the model class\n",
    "landchange_model02.predicted_map.plot()"
   ]
  },
  {
   "cell_type": "code",
   "execution_count": 20,
   "id": "e4b58a3b-afa5-498b-b3dc-811e0ebcccfc",
   "metadata": {
    "tags": []
   },
   "outputs": [
    {
     "data": {
      "text/plain": [
       "{'True Positives': 27145,\n",
       " 'True Negatives': 68400,\n",
       " 'False Positives': 4158,\n",
       " 'False Negatives': 3487,\n",
       " 'Precision': 0.8671692808995943,\n",
       " 'Recall': 0.8861647949856359,\n",
       " 'F1 Score': 0.876564139824009}"
      ]
     },
     "execution_count": 20,
     "metadata": {},
     "output_type": "execute_result"
    }
   ],
   "source": [
    "# call validate to get the CROSSTAB table\n",
    "landchange_model02.validate()"
   ]
  },
  {
   "cell_type": "code",
   "execution_count": null,
   "id": "e5dbc2ee-73d7-4e2f-90a0-de793e7b18c7",
   "metadata": {},
   "outputs": [],
   "source": []
  }
 ],
 "metadata": {
  "kernelspec": {
   "display_name": "Python 3 (ipykernel)",
   "language": "python",
   "name": "python3"
  },
  "language_info": {
   "codemirror_mode": {
    "name": "ipython",
    "version": 3
   },
   "file_extension": ".py",
   "mimetype": "text/x-python",
   "name": "python",
   "nbconvert_exporter": "python",
   "pygments_lexer": "ipython3",
   "version": "3.11.4"
  }
 },
 "nbformat": 4,
 "nbformat_minor": 5
}
