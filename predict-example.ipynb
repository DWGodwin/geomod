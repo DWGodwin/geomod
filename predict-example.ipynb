{
 "cells": [
  {
   "cell_type": "code",
   "execution_count": 8,
   "id": "c1c8697e-ac8e-4e6a-bd84-ab7e28eaeeee",
   "metadata": {
    "tags": []
   },
   "outputs": [],
   "source": [
    "import rioxarray\n",
    "import rasterio\n",
    "import glob\n",
    "import xarray"
   ]
  },
  {
   "cell_type": "code",
   "execution_count": 9,
   "id": "4cde6c22-dee7-48b7-b193-d20979074469",
   "metadata": {
    "tags": []
   },
   "outputs": [],
   "source": [
    "from geomod import predictor\n",
    "from geomod import utils"
   ]
  },
  {
   "cell_type": "markdown",
   "id": "65615dcc-cb1f-4bd2-8a24-eda628bd2d14",
   "metadata": {},
   "source": [
    "### Preparing the Data"
   ]
  },
  {
   "cell_type": "code",
   "execution_count": 11,
   "id": "697d622a-18e1-4e58-87ba-9ec9ca995e49",
   "metadata": {
    "tags": []
   },
   "outputs": [],
   "source": [
    "data_directory = '/home/jovyan/PlanetaryComputerExamples/adv-python-final/geomod/example-notebooks/data/'"
   ]
  },
  {
   "cell_type": "code",
   "execution_count": 12,
   "id": "2ea4c9e3-aa40-413f-aaf2-477dcc20c5c7",
   "metadata": {
    "tags": []
   },
   "outputs": [],
   "source": [
    "driver_map_names = ['elevation01', 'geology01', 'protection01']\n",
    "driver_map_paths = [data_directory+name+'.rst' for name in driver_map_names]\n",
    "driver_map_xr_list = [rioxarray.open_rasterio(map, masked=True) for map in driver_map_paths]\n",
    "all_driver_maps_xr = xarray.concat(driver_map_xr_list, dim='band').assign_coords(band=driver_map_names)"
   ]
  },
  {
   "cell_type": "code",
   "execution_count": 13,
   "id": "3b272502-b583-403a-ab2d-bf740dfa2d19",
   "metadata": {
    "tags": []
   },
   "outputs": [],
   "source": [
    "classification_map_xr = rioxarray.open_rasterio(data_directory+'1985anderson01.rst', masked=True)"
   ]
  },
  {
   "cell_type": "code",
   "execution_count": 14,
   "id": "ec7ab074-24f5-4e7c-899e-9365e9ce6528",
   "metadata": {
    "tags": []
   },
   "outputs": [],
   "source": [
    "def get_metadata(rdc_file):\n",
    "# Open the text file for reading\n",
    "    metadata_dict = {}\n",
    "    with open(rdc_file, \"r\") as file:\n",
    "    # Read each line in the file\n",
    "        for line in file:\n",
    "            # Split each line into key and value using ':'\n",
    "            key, value = line.strip().split(':')[0:2]\n",
    "            # Store the key-value pair in the dictionary\n",
    "            metadata_dict[key.strip()] = value.strip()\n",
    "    return metadata_dict"
   ]
  },
  {
   "cell_type": "code",
   "execution_count": 15,
   "id": "e1d775a5-085b-4e3e-9ef7-84889ddbd7e9",
   "metadata": {
    "tags": []
   },
   "outputs": [
    {
     "name": "stdout",
     "output_type": "stream",
     "text": [
      "{'file format': 'IDRISI Raster A.1', 'file title': '1985 Anderson Land Category', 'data type': 'byte', 'file type': 'binary', 'columns': '512', 'rows': '512', 'ref. system': 'spc83ma1', 'ref. units': 'm', 'unit dist.': '1.0000000', 'min. X': '242160.0000000', 'max. X': '257520.0000000', 'min. Y': '923060.0000000', 'max. Y': '938420.0000000', \"pos'n error\": 'unknown', 'resolution': '30', 'min. value': '0', 'max. value': '7', 'display min': '0', 'display max': '7', 'value units': 'categories', 'value error': 'unknown', 'flag value': '0', \"flag def'n\": 'background', 'legend cats': '7', 'code      1': 'Built', 'code      2': 'Agriculture', 'code      3': 'Range', 'code      4': 'Forest', 'code      5': 'Water', 'code      6': 'Wetland', 'code      7': 'Barren', 'lineage': '3*C'}\n"
     ]
    }
   ],
   "source": [
    "print(get_metadata(data_directory+'1985anderson01.RDC'))"
   ]
  },
  {
   "cell_type": "code",
   "execution_count": 25,
   "id": "90205c94-8aea-486a-9e9b-d7bd9ff7f4b6",
   "metadata": {
    "tags": []
   },
   "outputs": [],
   "source": [
    "input_classification_map_xr = rioxarray.open_rasterio(data_directory+'1985anderson01.rst', masked=True)\n",
    "land_cover_map = utils.reclassify_landcover_map(input_classification_map_xr, 1)"
   ]
  },
  {
   "cell_type": "code",
   "execution_count": 26,
   "id": "2b996c3b-ccad-4f06-91a8-e15dc7b3fdd7",
   "metadata": {
    "tags": []
   },
   "outputs": [],
   "source": [
    "validation_class_map_xr = rioxarray.open_rasterio(data_directory+'1999anderson01.rst', masked=True)\n",
    "validation_map = utils.reclassify_landcover_map(validation_class_map_xr, 1)"
   ]
  },
  {
   "cell_type": "code",
   "execution_count": null,
   "id": "8784d985-243f-4340-8ca8-bafe17e5a699",
   "metadata": {},
   "outputs": [],
   "source": []
  }
 ],
 "metadata": {
  "kernelspec": {
   "display_name": "Python 3 (ipykernel)",
   "language": "python",
   "name": "python3"
  },
  "language_info": {
   "codemirror_mode": {
    "name": "ipython",
    "version": 3
   },
   "file_extension": ".py",
   "mimetype": "text/x-python",
   "name": "python",
   "nbconvert_exporter": "python",
   "pygments_lexer": "ipython3",
   "version": "3.11.4"
  }
 },
 "nbformat": 4,
 "nbformat_minor": 5
}
